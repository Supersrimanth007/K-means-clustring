{
 "cells": [
  {
   "cell_type": "markdown",
   "id": "80260ed9-1143-4abf-956a-782879badfd4",
   "metadata": {},
   "source": [
    "# Import Library"
   ]
  },
  {
   "cell_type": "code",
   "execution_count": 2,
   "id": "2144f548-0269-4f7f-979b-be46a96b8fe7",
   "metadata": {},
   "outputs": [],
   "source": [
    "import pandas as pd\n",
    "import numpy as np\n",
    "import matplotlib.pyplot as plt\n",
    "from sklearn.preprocessing import StandardScaler\n",
    "from sklearn.cluster import KMeans\n",
    "from sklearn.metrics import silhouette_score"
   ]
  },
  {
   "cell_type": "code",
   "execution_count": 4,
   "id": "fd0dc56a-d02a-4d11-a1d3-afe0b70acfaa",
   "metadata": {},
   "outputs": [
    {
     "data": {
      "text/html": [
       "<div>\n",
       "<style scoped>\n",
       "    .dataframe tbody tr th:only-of-type {\n",
       "        vertical-align: middle;\n",
       "    }\n",
       "\n",
       "    .dataframe tbody tr th {\n",
       "        vertical-align: top;\n",
       "    }\n",
       "\n",
       "    .dataframe thead th {\n",
       "        text-align: right;\n",
       "    }\n",
       "</style>\n",
       "<table border=\"1\" class=\"dataframe\">\n",
       "  <thead>\n",
       "    <tr style=\"text-align: right;\">\n",
       "      <th></th>\n",
       "      <th>age</th>\n",
       "      <th>sex</th>\n",
       "      <th>chol</th>\n",
       "    </tr>\n",
       "  </thead>\n",
       "  <tbody>\n",
       "    <tr>\n",
       "      <th>0</th>\n",
       "      <td>63</td>\n",
       "      <td>1</td>\n",
       "      <td>233</td>\n",
       "    </tr>\n",
       "    <tr>\n",
       "      <th>1</th>\n",
       "      <td>37</td>\n",
       "      <td>1</td>\n",
       "      <td>250</td>\n",
       "    </tr>\n",
       "    <tr>\n",
       "      <th>2</th>\n",
       "      <td>41</td>\n",
       "      <td>0</td>\n",
       "      <td>204</td>\n",
       "    </tr>\n",
       "    <tr>\n",
       "      <th>3</th>\n",
       "      <td>56</td>\n",
       "      <td>1</td>\n",
       "      <td>236</td>\n",
       "    </tr>\n",
       "    <tr>\n",
       "      <th>4</th>\n",
       "      <td>57</td>\n",
       "      <td>0</td>\n",
       "      <td>354</td>\n",
       "    </tr>\n",
       "    <tr>\n",
       "      <th>...</th>\n",
       "      <td>...</td>\n",
       "      <td>...</td>\n",
       "      <td>...</td>\n",
       "    </tr>\n",
       "    <tr>\n",
       "      <th>298</th>\n",
       "      <td>57</td>\n",
       "      <td>0</td>\n",
       "      <td>241</td>\n",
       "    </tr>\n",
       "    <tr>\n",
       "      <th>299</th>\n",
       "      <td>45</td>\n",
       "      <td>1</td>\n",
       "      <td>264</td>\n",
       "    </tr>\n",
       "    <tr>\n",
       "      <th>300</th>\n",
       "      <td>68</td>\n",
       "      <td>1</td>\n",
       "      <td>193</td>\n",
       "    </tr>\n",
       "    <tr>\n",
       "      <th>301</th>\n",
       "      <td>57</td>\n",
       "      <td>1</td>\n",
       "      <td>131</td>\n",
       "    </tr>\n",
       "    <tr>\n",
       "      <th>302</th>\n",
       "      <td>57</td>\n",
       "      <td>0</td>\n",
       "      <td>236</td>\n",
       "    </tr>\n",
       "  </tbody>\n",
       "</table>\n",
       "<p>303 rows × 3 columns</p>\n",
       "</div>"
      ],
      "text/plain": [
       "     age  sex  chol\n",
       "0     63    1   233\n",
       "1     37    1   250\n",
       "2     41    0   204\n",
       "3     56    1   236\n",
       "4     57    0   354\n",
       "..   ...  ...   ...\n",
       "298   57    0   241\n",
       "299   45    1   264\n",
       "300   68    1   193\n",
       "301   57    1   131\n",
       "302   57    0   236\n",
       "\n",
       "[303 rows x 3 columns]"
      ]
     },
     "execution_count": 4,
     "metadata": {},
     "output_type": "execute_result"
    }
   ],
   "source": [
    "heart_df = pd.read_csv(r\"C:\\Users\\M.Srimanth\\Downloads\\heart_dataset_mini.csv\")\n",
    "heart_df"
   ]
  },
  {
   "cell_type": "code",
   "execution_count": 6,
   "id": "0a8d1d39-8c8e-4c83-a8e9-970ee80e1cc1",
   "metadata": {},
   "outputs": [
    {
     "data": {
      "text/html": [
       "<div>\n",
       "<style scoped>\n",
       "    .dataframe tbody tr th:only-of-type {\n",
       "        vertical-align: middle;\n",
       "    }\n",
       "\n",
       "    .dataframe tbody tr th {\n",
       "        vertical-align: top;\n",
       "    }\n",
       "\n",
       "    .dataframe thead th {\n",
       "        text-align: right;\n",
       "    }\n",
       "</style>\n",
       "<table border=\"1\" class=\"dataframe\">\n",
       "  <thead>\n",
       "    <tr style=\"text-align: right;\">\n",
       "      <th></th>\n",
       "      <th>age</th>\n",
       "      <th>chol</th>\n",
       "    </tr>\n",
       "  </thead>\n",
       "  <tbody>\n",
       "    <tr>\n",
       "      <th>0</th>\n",
       "      <td>63</td>\n",
       "      <td>233</td>\n",
       "    </tr>\n",
       "    <tr>\n",
       "      <th>1</th>\n",
       "      <td>37</td>\n",
       "      <td>250</td>\n",
       "    </tr>\n",
       "    <tr>\n",
       "      <th>2</th>\n",
       "      <td>41</td>\n",
       "      <td>204</td>\n",
       "    </tr>\n",
       "    <tr>\n",
       "      <th>3</th>\n",
       "      <td>56</td>\n",
       "      <td>236</td>\n",
       "    </tr>\n",
       "    <tr>\n",
       "      <th>4</th>\n",
       "      <td>57</td>\n",
       "      <td>354</td>\n",
       "    </tr>\n",
       "    <tr>\n",
       "      <th>...</th>\n",
       "      <td>...</td>\n",
       "      <td>...</td>\n",
       "    </tr>\n",
       "    <tr>\n",
       "      <th>298</th>\n",
       "      <td>57</td>\n",
       "      <td>241</td>\n",
       "    </tr>\n",
       "    <tr>\n",
       "      <th>299</th>\n",
       "      <td>45</td>\n",
       "      <td>264</td>\n",
       "    </tr>\n",
       "    <tr>\n",
       "      <th>300</th>\n",
       "      <td>68</td>\n",
       "      <td>193</td>\n",
       "    </tr>\n",
       "    <tr>\n",
       "      <th>301</th>\n",
       "      <td>57</td>\n",
       "      <td>131</td>\n",
       "    </tr>\n",
       "    <tr>\n",
       "      <th>302</th>\n",
       "      <td>57</td>\n",
       "      <td>236</td>\n",
       "    </tr>\n",
       "  </tbody>\n",
       "</table>\n",
       "<p>303 rows × 2 columns</p>\n",
       "</div>"
      ],
      "text/plain": [
       "     age  chol\n",
       "0     63   233\n",
       "1     37   250\n",
       "2     41   204\n",
       "3     56   236\n",
       "4     57   354\n",
       "..   ...   ...\n",
       "298   57   241\n",
       "299   45   264\n",
       "300   68   193\n",
       "301   57   131\n",
       "302   57   236\n",
       "\n",
       "[303 rows x 2 columns]"
      ]
     },
     "execution_count": 6,
     "metadata": {},
     "output_type": "execute_result"
    }
   ],
   "source": [
    "x = heart_df[['age','chol']]\n",
    "x"
   ]
  },
  {
   "cell_type": "code",
   "execution_count": 8,
   "id": "734a25a1-e8aa-4934-bea7-1318805d90af",
   "metadata": {},
   "outputs": [
    {
     "data": {
      "text/plain": [
       "age     0\n",
       "chol    0\n",
       "dtype: int64"
      ]
     },
     "execution_count": 8,
     "metadata": {},
     "output_type": "execute_result"
    }
   ],
   "source": [
    "x.isnull().sum()"
   ]
  },
  {
   "cell_type": "code",
   "execution_count": 9,
   "id": "51c5e049-1c7c-4dbb-b47e-3f5f12bebf76",
   "metadata": {},
   "outputs": [
    {
     "data": {
      "text/html": [
       "<div>\n",
       "<style scoped>\n",
       "    .dataframe tbody tr th:only-of-type {\n",
       "        vertical-align: middle;\n",
       "    }\n",
       "\n",
       "    .dataframe tbody tr th {\n",
       "        vertical-align: top;\n",
       "    }\n",
       "\n",
       "    .dataframe thead th {\n",
       "        text-align: right;\n",
       "    }\n",
       "</style>\n",
       "<table border=\"1\" class=\"dataframe\">\n",
       "  <thead>\n",
       "    <tr style=\"text-align: right;\">\n",
       "      <th></th>\n",
       "      <th>age</th>\n",
       "      <th>chol</th>\n",
       "    </tr>\n",
       "  </thead>\n",
       "  <tbody>\n",
       "    <tr>\n",
       "      <th>count</th>\n",
       "      <td>303.000000</td>\n",
       "      <td>303.000000</td>\n",
       "    </tr>\n",
       "    <tr>\n",
       "      <th>mean</th>\n",
       "      <td>54.366337</td>\n",
       "      <td>246.264026</td>\n",
       "    </tr>\n",
       "    <tr>\n",
       "      <th>std</th>\n",
       "      <td>9.082101</td>\n",
       "      <td>51.830751</td>\n",
       "    </tr>\n",
       "    <tr>\n",
       "      <th>min</th>\n",
       "      <td>29.000000</td>\n",
       "      <td>126.000000</td>\n",
       "    </tr>\n",
       "    <tr>\n",
       "      <th>25%</th>\n",
       "      <td>47.500000</td>\n",
       "      <td>211.000000</td>\n",
       "    </tr>\n",
       "    <tr>\n",
       "      <th>50%</th>\n",
       "      <td>55.000000</td>\n",
       "      <td>240.000000</td>\n",
       "    </tr>\n",
       "    <tr>\n",
       "      <th>75%</th>\n",
       "      <td>61.000000</td>\n",
       "      <td>274.500000</td>\n",
       "    </tr>\n",
       "    <tr>\n",
       "      <th>max</th>\n",
       "      <td>77.000000</td>\n",
       "      <td>564.000000</td>\n",
       "    </tr>\n",
       "  </tbody>\n",
       "</table>\n",
       "</div>"
      ],
      "text/plain": [
       "              age        chol\n",
       "count  303.000000  303.000000\n",
       "mean    54.366337  246.264026\n",
       "std      9.082101   51.830751\n",
       "min     29.000000  126.000000\n",
       "25%     47.500000  211.000000\n",
       "50%     55.000000  240.000000\n",
       "75%     61.000000  274.500000\n",
       "max     77.000000  564.000000"
      ]
     },
     "execution_count": 9,
     "metadata": {},
     "output_type": "execute_result"
    }
   ],
   "source": [
    "x.describe()"
   ]
  },
  {
   "cell_type": "markdown",
   "id": "73677583-a78b-402f-80f6-5e05e6bf1279",
   "metadata": {},
   "source": [
    "# Visuvalize The Feature"
   ]
  },
  {
   "cell_type": "code",
   "execution_count": 10,
   "id": "1af4b57a-f754-4d87-845d-23fb78d6292b",
   "metadata": {},
   "outputs": [
    {
     "data": {
      "text/plain": [
       "Text(0, 0.5, 'Age')"
      ]
     },
     "execution_count": 10,
     "metadata": {},
     "output_type": "execute_result"
    },
    {
     "data": {
      "image/png": "[encoded data removed]",
      "text/plain": [
       "<Figure size 640x480 with 1 Axes>"
      ]
     },
     "metadata": {},
     "output_type": "display_data"
    }
   ],
   "source": [
    "plt.scatter(x.chol,x.age)\n",
    "plt.xlabel('Chol')\n",
    "plt.ylabel('Age')"
   ]
  },
  {
   "cell_type": "code",
   "execution_count": 11,
   "id": "8ec34484-bb18-43ef-a17b-a4ff9b27b796",
   "metadata": {},
   "outputs": [
    {
     "data": {
      "text/plain": [
       "array([[ 9.52196602e-01, -2.56333707e-01],\n",
       "       [-1.91531289e+00,  7.21994916e-02],\n",
       "       [-1.47415758e+00, -8.16772694e-01],\n",
       "       [ 1.80174816e-01, -1.98357261e-01],\n",
       "       [ 2.90463642e-01,  2.08204965e+00],\n",
       "       [ 2.90463642e-01, -1.04867848e+00],\n",
       "       [ 1.80174816e-01,  9.22520713e-01],\n",
       "       [-1.14329110e+00,  3.23430762e-01],\n",
       "       [-2.60980491e-01, -9.13400106e-01],\n",
       "       [ 2.90463642e-01, -1.51249006e+00],\n",
       "       [-4.04028375e-02, -1.40380814e-01],\n",
       "       [-7.02135797e-01,  5.55336549e-01],\n",
       "       [-5.91846970e-01,  3.81407208e-01],\n",
       "       [ 1.06248543e+00, -6.81494318e-01],\n",
       "       [ 4.00752469e-01,  7.09940408e-01],\n",
       "       [-4.81558144e-01, -5.26890460e-01],\n",
       "       [ 4.00752469e-01,  1.81149290e+00],\n",
       "       [ 1.28306308e+00, -3.91612084e-01],\n",
       "       [-1.25357993e+00,  1.42230447e-02],\n",
       "       [ 1.61392956e+00, -1.40380814e-01],\n",
       "       [ 5.11041295e-01, -2.37008225e-01],\n",
       "       [-1.14329110e+00, -2.56333707e-01],\n",
       "       [-1.36386876e+00, -3.91612084e-01],\n",
       "       [ 7.31618948e-01, -6.30788845e-02],\n",
       "       [-1.58444641e+00, -9.13400106e-01],\n",
       "       [ 1.83450721e+00,  1.07712457e+00],\n",
       "       [ 5.11041295e-01, -6.62168836e-01],\n",
       "       [-3.71269317e-01, -1.37721168e+00],\n",
       "       [ 1.17277425e+00,  3.29955504e+00],\n",
       "       [-1.50691664e-01, -9.52051070e-01],\n",
       "       [-1.47415758e+00, -9.32725588e-01],\n",
       "       [ 1.17277425e+00, -1.33856072e+00],\n",
       "       [-1.14329110e+00, -5.26890460e-01],\n",
       "       [-4.04028375e-02,  5.16685585e-01],\n",
       "       [-3.71269317e-01, -6.42843353e-01],\n",
       "       [-9.22713450e-01, -1.33856072e+00],\n",
       "       [-4.04028375e-02,  1.11577554e+00],\n",
       "       [-4.04028375e-02, -2.75659190e-01],\n",
       "       [ 1.17277425e+00,  4.39383655e-01],\n",
       "       [ 1.17277425e+00,  2.19800254e+00],\n",
       "       [-3.71269317e-01,  1.19307747e+00],\n",
       "       [-7.02135797e-01, -2.44279199e-02],\n",
       "       [-1.03300228e+00, -7.39470765e-01],\n",
       "       [-1.50691664e-01,  3.42756244e-01],\n",
       "       [-1.69473524e+00,  1.44430873e+00],\n",
       "       [-2.60980491e-01,  1.52161066e+00],\n",
       "       [-1.14329110e+00, -2.17682743e-01],\n",
       "       [-8.12424623e-01,  2.07477868e-01],\n",
       "       [-1.50691664e-01, -5.84866907e-01],\n",
       "       [-1.50691664e-01, -2.37008225e-01],\n",
       "       [-3.71269317e-01,  1.88152385e-01],\n",
       "       [ 1.28306308e+00,  1.07712457e+00],\n",
       "       [ 8.41907775e-01, -2.94984672e-01],\n",
       "       [-1.14329110e+00, -2.03427808e+00],\n",
       "       [ 9.52196602e-01,  1.10850456e-01],\n",
       "       [-2.60980491e-01, -8.74749141e-01],\n",
       "       [-7.02135797e-01, -4.68914013e-01],\n",
       "       [-1.03300228e+00,  2.65454315e-01],\n",
       "       [-2.24617937e+00, -1.24193330e+00],\n",
       "       [ 2.90463642e-01,  1.09645005e+00],\n",
       "       [ 1.83450721e+00,  3.62081726e-01],\n",
       "       [-4.04028375e-02,  1.21240295e+00],\n",
       "       [-2.60980491e-01, -1.16463138e+00],\n",
       "       [-1.47415758e+00, -8.36098177e-01],\n",
       "       [ 4.00752469e-01, -6.81494318e-01],\n",
       "       [-2.13589054e+00, -1.22260782e+00],\n",
       "       [-3.71269317e-01, -4.68914013e-01],\n",
       "       [-1.03300228e+00, -2.37008225e-01],\n",
       "       [-1.14329110e+00, -5.07564977e-01],\n",
       "       [ 8.41907775e-01, -7.20145283e-01],\n",
       "       [-4.04028375e-02,  2.26803350e-01],\n",
       "       [-3.71269317e-01, -3.72286601e-01],\n",
       "       [-2.79762350e+00, -8.16772694e-01],\n",
       "       [-3.71269317e-01,  2.84779797e-01],\n",
       "       [-1.25357993e+00, -6.42843353e-01],\n",
       "       [ 6.98859891e-02,  7.21994916e-02],\n",
       "       [-3.71269317e-01, -2.44279199e-02],\n",
       "       [ 5.11041295e-01, -4.88239495e-01],\n",
       "       [-2.60980491e-01, -7.97447212e-01],\n",
       "       [ 4.00752469e-01, -1.21055331e-01],\n",
       "       [-1.47415758e+00,  7.21994916e-02],\n",
       "       [-1.03300228e+00,  1.19307747e+00],\n",
       "       [ 6.21330122e-01,  1.38633229e+00],\n",
       "       [-2.60980491e-01,  9.99822642e-01],\n",
       "       [-1.36386876e+00,  3.62081726e-01],\n",
       "       [ 1.39335191e+00,  6.14040093e+00],\n",
       "       [ 1.50364073e+00,  5.93987514e-01],\n",
       "       [-9.22713450e-01, -9.52051070e-01],\n",
       "       [-4.04028375e-02, -6.23517871e-01],\n",
       "       [ 4.00752469e-01,  3.35485270e-02],\n",
       "       [-7.02135797e-01,  1.68826903e-01],\n",
       "       [ 2.90463642e-01, -7.58796247e-01],\n",
       "       [-2.60980491e-01, -4.49588530e-01],\n",
       "       [-4.04028375e-02,  8.06567819e-01],\n",
       "       [-1.03300228e+00, -1.66709392e+00],\n",
       "       [-1.50691664e-01, -3.91612084e-01],\n",
       "       [ 8.41907775e-01,  2.85506894e+00],\n",
       "       [-2.60980491e-01, -2.56333707e-01],\n",
       "       [-1.25357993e+00,  1.32835584e+00],\n",
       "       [-1.50691664e-01, -5.10243757e-03],\n",
       "       [-1.36386876e+00, -4.37534022e-02],\n",
       "       [ 5.11041295e-01,  4.58709138e-01],\n",
       "       [ 9.52196602e-01, -9.90702035e-01],\n",
       "       [-1.36386876e+00, -1.21055331e-01],\n",
       "       [-4.81558144e-01, -9.71376553e-01],\n",
       "       [ 1.50364073e+00, -6.81494318e-01],\n",
       "       [ 1.61392956e+00, -2.37008225e-01],\n",
       "       [-1.03300228e+00, -1.98357261e-01],\n",
       "       [-4.81558144e-01, -4.37534022e-02],\n",
       "       [-4.81558144e-01,  1.49501421e-01],\n",
       "       [ 1.06248543e+00,  1.52161066e+00],\n",
       "       [ 2.90463642e-01, -2.32416031e+00],\n",
       "       [ 1.06248543e+00,  1.28970488e+00],\n",
       "       [-1.25357993e+00, -6.81494318e-01],\n",
       "       [ 6.98859891e-02,  3.04105279e-01],\n",
       "       [-1.91531289e+00, -6.04192389e-01],\n",
       "       [-1.47415758e+00, -6.23517871e-01],\n",
       "       [ 1.80174816e-01, -1.02935300e+00],\n",
       "       [-9.22713450e-01, -8.16772694e-01],\n",
       "       [-9.22713450e-01, -6.30788845e-02],\n",
       "       [ 1.06248543e+00,  1.09645005e+00],\n",
       "       [ 5.11041295e-01,  4.78034620e-01],\n",
       "       [-1.47415758e+00,  4.20058173e-01],\n",
       "       [-4.04028375e-02,  4.00732691e-01],\n",
       "       [-1.69473524e+00, -9.13400106e-01],\n",
       "       [-2.24617937e+00, -7.00819800e-01],\n",
       "       [-8.12424623e-01, -8.16772694e-01],\n",
       "       [ 1.39335191e+00,  5.93987514e-01],\n",
       "       [-2.60980491e-01, -9.71376553e-01],\n",
       "       [ 2.16537369e+00,  4.39383655e-01],\n",
       "       [-4.04028375e-02, -8.74749141e-01],\n",
       "       [-5.91846970e-01,  4.78034620e-01],\n",
       "       [-1.36386876e+00,  9.41846195e-01],\n",
       "       [-1.47415758e+00, -2.17682743e-01],\n",
       "       [-1.47415758e+00,  1.15442650e+00],\n",
       "       [-5.91846970e-01,  4.39383655e-01],\n",
       "       [ 6.21330122e-01, -1.31923523e+00],\n",
       "       [ 8.41907775e-01, -7.39470765e-01],\n",
       "       [ 2.90463642e-01, -8.74749141e-01],\n",
       "       [ 1.06248543e+00,  3.23430762e-01],\n",
       "       [-3.71269317e-01,  9.41846195e-01],\n",
       "       [-1.25357993e+00,  1.09645005e+00],\n",
       "       [-1.36386876e+00, -7.20145283e-01],\n",
       "       [ 1.39335191e+00, -4.49588530e-01],\n",
       "       [ 2.38595135e+00, -9.52051070e-01],\n",
       "       [ 1.72421839e+00, -2.44279199e-02],\n",
       "       [-1.14329110e+00, -8.24043668e-02],\n",
       "       [ 6.21330122e-01, -1.21055331e-01],\n",
       "       [-1.14329110e+00, -3.91612084e-01],\n",
       "       [-1.36386876e+00, -1.28058427e+00],\n",
       "       [ 1.28306308e+00, -3.52961119e-01],\n",
       "       [ 1.83450721e+00, -1.87967422e+00],\n",
       "       [ 1.06248543e+00, -3.72286601e-01],\n",
       "       [ 1.28306308e+00,  6.13312996e-01],\n",
       "       [-1.69473524e+00, -5.07564977e-01],\n",
       "       [ 4.00752469e-01, -9.52051070e-01],\n",
       "       [-8.12424623e-01,  1.30175939e-01],\n",
       "       [-2.13589054e+00, -1.04867848e+00],\n",
       "       [ 4.00752469e-01, -5.07564977e-01],\n",
       "       [ 1.80174816e-01, -4.88239495e-01],\n",
       "       [ 1.80174816e-01, -1.21055331e-01],\n",
       "       [ 6.98859891e-02,  1.85014386e+00],\n",
       "       [-1.47415758e+00, -1.72507036e+00],\n",
       "       [-1.80502406e+00, -1.37721168e+00],\n",
       "       [-1.80502406e+00, -1.37721168e+00],\n",
       "       [ 1.39335191e+00,  7.67916854e-01],\n",
       "       [ 1.39335191e+00, -3.33635637e-01],\n",
       "       [ 8.41907775e-01,  4.20058173e-01],\n",
       "       [ 9.52196602e-01,  1.49501421e-01],\n",
       "       [-1.50691664e-01, -8.36098177e-01],\n",
       "       [ 1.80174816e-01,  1.88152385e-01],\n",
       "       [-7.02135797e-01, -3.33635637e-01],\n",
       "       [ 4.00752469e-01,  7.29265890e-01],\n",
       "       [ 4.00752469e-01, -4.30263048e-01],\n",
       "       [ 6.21330122e-01, -7.78121730e-01],\n",
       "       [-1.58444641e+00, -1.53181554e+00],\n",
       "       [ 6.21330122e-01, -3.14310154e-01],\n",
       "       [ 1.06248543e+00,  1.71486549e+00],\n",
       "       [-1.25357993e+00, -1.33856072e+00],\n",
       "       [ 2.90463642e-01,  5.74662031e-01],\n",
       "       [ 6.98859891e-02,  2.06272417e+00],\n",
       "       [ 1.17277425e+00, -4.10937566e-01],\n",
       "       [ 7.31618948e-01,  1.61823808e+00],\n",
       "       [ 4.00752469e-01, -3.14310154e-01],\n",
       "       [-4.81558144e-01, -6.30788845e-02],\n",
       "       [-1.14329110e+00,  8.45218784e-01],\n",
       "       [ 6.21330122e-01,  1.30175939e-01],\n",
       "       [-4.04028375e-02,  3.81407208e-01],\n",
       "       [-4.81558144e-01, -2.56333707e-01],\n",
       "       [-1.47415758e+00, -1.43518813e+00],\n",
       "       [-3.71269317e-01,  1.13510102e+00],\n",
       "       [ 4.00752469e-01, -5.84866907e-01],\n",
       "       [-4.04028375e-02, -1.12598041e+00],\n",
       "       [ 6.21330122e-01,  6.90614925e-01],\n",
       "       [ 6.21330122e-01, -1.18395686e+00],\n",
       "       [ 5.11041295e-01,  1.54093615e+00],\n",
       "       [-9.22713450e-01, -2.94984672e-01],\n",
       "       [ 1.39335191e+00,  1.49501421e-01],\n",
       "       [ 8.41907775e-01,  4.00732691e-01],\n",
       "       [ 1.17277425e+00,  3.35485270e-02],\n",
       "       [-1.14329110e+00, -9.52051070e-01],\n",
       "       [ 6.21330122e-01,  2.26803350e-01],\n",
       "       [ 4.00752469e-01,  4.58709138e-01],\n",
       "       [ 1.50364073e+00,  5.36011067e-01],\n",
       "       [ 8.41907775e-01, -1.58979199e+00],\n",
       "       [-2.60980491e-01,  1.68826903e-01],\n",
       "       [ 5.11041295e-01, -1.40380814e-01],\n",
       "       [ 6.21330122e-01,  2.26803350e-01],\n",
       "       [-5.91846970e-01, -1.12598041e+00],\n",
       "       [ 5.11041295e-01, -1.33856072e+00],\n",
       "       [ 2.90463642e-01, -3.33635637e-01],\n",
       "       [ 7.31618948e-01,  2.65454315e-01],\n",
       "       [-1.69473524e+00, -5.26890460e-01],\n",
       "       [ 7.31618948e-01,  1.17375198e+00],\n",
       "       [ 1.80174816e-01,  5.28740093e-02],\n",
       "       [-1.25357993e+00,  1.83081838e+00],\n",
       "       [ 8.41907775e-01,  3.23430762e-01],\n",
       "       [ 9.52196602e-01,  1.61823808e+00],\n",
       "       [ 1.17277425e+00,  1.49501421e-01],\n",
       "       [-7.02135797e-01,  1.88152385e-01],\n",
       "       [ 9.52196602e-01,  3.10630021e+00],\n",
       "       [ 6.98859891e-02, -5.65541424e-01],\n",
       "       [ 1.17277425e+00,  6.90614925e-01],\n",
       "       [ 1.80174816e-01,  8.06567819e-01],\n",
       "       [-4.04028375e-02, -1.40380814e-01],\n",
       "       [ 1.72421839e+00, -1.39653716e+00],\n",
       "       [ 8.41907775e-01,  6.71289443e-01],\n",
       "       [-2.13589054e+00, -9.32725588e-01],\n",
       "       [ 5.11041295e-01,  8.06567819e-01],\n",
       "       [ 1.06248543e+00,  1.21240295e+00],\n",
       "       [-8.12424623e-01, -6.30788845e-02],\n",
       "       [ 2.90463642e-01,  8.25893301e-01],\n",
       "       [ 6.98859891e-02,  8.25893301e-01],\n",
       "       [ 1.06248543e+00, -5.10243757e-03],\n",
       "       [ 1.72421839e+00,  1.46363422e+00],\n",
       "       [-3.71269317e-01,  1.01914812e+00],\n",
       "       [ 4.00752469e-01,  1.03847361e+00],\n",
       "       [ 6.21330122e-01,  9.03195231e-01],\n",
       "       [ 2.49624017e+00,  1.11577554e+00],\n",
       "       [-2.13589054e+00,  6.90614925e-01],\n",
       "       [ 1.72421839e+00,  4.39383655e-01],\n",
       "       [ 5.11041295e-01,  5.28740093e-02],\n",
       "       [ 1.06248543e+00, -6.62168836e-01],\n",
       "       [ 2.90463642e-01,  5.36011067e-01],\n",
       "       [ 1.80174816e-01, -1.20328234e+00],\n",
       "       [-7.02135797e-01,  5.36011067e-01],\n",
       "       [ 1.80174816e-01,  3.14495118e+00],\n",
       "       [ 1.28306308e+00, -5.10243757e-03],\n",
       "       [-4.04028375e-02,  7.09940408e-01],\n",
       "       [ 1.61392956e+00,  1.49501421e-01],\n",
       "       [-3.71269317e-01,  9.99822642e-01],\n",
       "       [-1.25357993e+00,  1.42230447e-02],\n",
       "       [ 8.41907775e-01,  9.22520713e-01],\n",
       "       [ 1.39335191e+00,  1.01914812e+00],\n",
       "       [ 5.11041295e-01,  5.16685585e-01],\n",
       "       [-1.03300228e+00,  1.21240295e+00],\n",
       "       [ 4.00752469e-01,  2.46128832e-01],\n",
       "       [-4.81558144e-01, -8.94074623e-01],\n",
       "       [ 8.41907775e-01, -4.37534022e-02],\n",
       "       [-1.80502406e+00, -2.94984672e-01],\n",
       "       [ 1.28306308e+00, -3.52961119e-01],\n",
       "       [-2.60980491e-01, -3.14310154e-01],\n",
       "       [-1.50691664e-01,  6.90614925e-01],\n",
       "       [ 9.52196602e-01,  4.39383655e-01],\n",
       "       [-4.04028375e-02, -7.78121730e-01],\n",
       "       [ 1.28306308e+00, -6.62168836e-01],\n",
       "       [ 6.98859891e-02,  1.56026163e+00],\n",
       "       [-5.91846970e-01, -1.87967422e+00],\n",
       "       [-4.04028375e-02,  7.67916854e-01],\n",
       "       [ 1.80174816e-01,  7.09940408e-01],\n",
       "       [-9.22713450e-01,  5.28740093e-02],\n",
       "       [ 7.31618948e-01, -2.37008225e-01],\n",
       "       [ 1.39335191e+00, -1.79031778e-01],\n",
       "       [ 4.00752469e-01, -2.37008225e-01],\n",
       "       [-8.12424623e-01,  5.55336549e-01],\n",
       "       [-2.60980491e-01, -6.62168836e-01],\n",
       "       [ 4.00752469e-01, -5.46215942e-01],\n",
       "       [ 2.90463642e-01,  2.84779797e-01],\n",
       "       [ 4.00752469e-01,  1.40565777e+00],\n",
       "       [ 7.31618948e-01, -1.55114102e+00],\n",
       "       [-1.36386876e+00,  1.32835584e+00],\n",
       "       [-2.60980491e-01, -8.16772694e-01],\n",
       "       [ 5.11041295e-01, -5.46215942e-01],\n",
       "       [-1.58444641e+00, -4.49588530e-01],\n",
       "       [ 7.31618948e-01, -7.58796247e-01],\n",
       "       [-9.22713450e-01,  1.25105391e+00],\n",
       "       [ 5.11041295e-01, -8.16772694e-01],\n",
       "       [ 2.90463642e-01, -2.75659190e-01],\n",
       "       [ 2.90463642e-01,  1.71486549e+00],\n",
       "       [ 6.98859891e-02, -7.97447212e-01],\n",
       "       [ 7.31618948e-01, -8.36098177e-01],\n",
       "       [ 4.00752469e-01,  1.38633229e+00],\n",
       "       [ 4.00752469e-01, -4.10937566e-01],\n",
       "       [ 1.39335191e+00, -6.62168836e-01],\n",
       "       [-1.14329110e+00, -1.49316457e+00],\n",
       "       [ 9.52196602e-01, -1.14530589e+00],\n",
       "       [ 9.52196602e-01, -9.52051070e-01],\n",
       "       [ 5.11041295e-01, -1.35788620e+00],\n",
       "       [ 2.90463642e-01, -1.01729849e-01],\n",
       "       [-1.03300228e+00,  3.42756244e-01],\n",
       "       [ 1.50364073e+00, -1.02935300e+00],\n",
       "       [ 2.90463642e-01, -2.22753290e+00],\n",
       "       [ 2.90463642e-01, -1.98357261e-01]])"
      ]
     },
     "execution_count": 11,
     "metadata": {},
     "output_type": "execute_result"
    }
   ],
   "source": [
    "scaler = StandardScaler()\n",
    "x = scaler.fit_transform(x)\n",
    "x"
   ]
  },
  {
   "cell_type": "markdown",
   "id": "c7c6d8ed-bef9-4ac2-96c9-940f5fe5e6e4",
   "metadata": {},
   "source": [
    "# Building The Model"
   ]
  },
  {
   "cell_type": "code",
   "execution_count": 26,
   "id": "e080d8b1-a8cf-4ef2-b7dd-eb177abc0c52",
   "metadata": {},
   "outputs": [
    {
     "name": "stderr",
     "output_type": "stream",
     "text": [
      "C:\\Users\\M.Srimanth\\AppData\\Local\\Programs\\Python\\Python311\\Lib\\site-packages\\sklearn\\cluster\\_kmeans.py:1416: FutureWarning: The default value of `n_init` will change from 10 to 'auto' in 1.4. Set the value of `n_init` explicitly to suppress the warning\n",
      "  super()._check_params_vs_input(X, default_n_init=10)\n",
      "C:\\Users\\M.Srimanth\\AppData\\Local\\Programs\\Python\\Python311\\Lib\\site-packages\\sklearn\\cluster\\_kmeans.py:1416: FutureWarning: The default value of `n_init` will change from 10 to 'auto' in 1.4. Set the value of `n_init` explicitly to suppress the warning\n",
      "  super()._check_params_vs_input(X, default_n_init=10)\n",
      "C:\\Users\\M.Srimanth\\AppData\\Local\\Programs\\Python\\Python311\\Lib\\site-packages\\sklearn\\cluster\\_kmeans.py:1416: FutureWarning: The default value of `n_init` will change from 10 to 'auto' in 1.4. Set the value of `n_init` explicitly to suppress the warning\n",
      "  super()._check_params_vs_input(X, default_n_init=10)\n",
      "C:\\Users\\M.Srimanth\\AppData\\Local\\Programs\\Python\\Python311\\Lib\\site-packages\\sklearn\\cluster\\_kmeans.py:1416: FutureWarning: The default value of `n_init` will change from 10 to 'auto' in 1.4. Set the value of `n_init` explicitly to suppress the warning\n",
      "  super()._check_params_vs_input(X, default_n_init=10)\n"
     ]
    },
    {
     "name": "stdout",
     "output_type": "stream",
     "text": [
      "inertia -- 375.12901975047083 | slihouette -- 0.3544807301682555\n",
      "inertia -- 256.9598573689618 | slihouette -- 0.3603326502768412\n",
      "inertia -- 207.35880116270351 | slihouette -- 0.34256800544161103\n",
      "inertia -- 165.2532320486421 | slihouette -- 0.35162309378851725\n"
     ]
    },
    {
     "name": "stderr",
     "output_type": "stream",
     "text": [
      "C:\\Users\\M.Srimanth\\AppData\\Local\\Programs\\Python\\Python311\\Lib\\site-packages\\sklearn\\cluster\\_kmeans.py:1416: FutureWarning: The default value of `n_init` will change from 10 to 'auto' in 1.4. Set the value of `n_init` explicitly to suppress the warning\n",
      "  super()._check_params_vs_input(X, default_n_init=10)\n",
      "C:\\Users\\M.Srimanth\\AppData\\Local\\Programs\\Python\\Python311\\Lib\\site-packages\\sklearn\\cluster\\_kmeans.py:1416: FutureWarning: The default value of `n_init` will change from 10 to 'auto' in 1.4. Set the value of `n_init` explicitly to suppress the warning\n",
      "  super()._check_params_vs_input(X, default_n_init=10)\n",
      "C:\\Users\\M.Srimanth\\AppData\\Local\\Programs\\Python\\Python311\\Lib\\site-packages\\sklearn\\cluster\\_kmeans.py:1416: FutureWarning: The default value of `n_init` will change from 10 to 'auto' in 1.4. Set the value of `n_init` explicitly to suppress the warning\n",
      "  super()._check_params_vs_input(X, default_n_init=10)\n"
     ]
    },
    {
     "name": "stdout",
     "output_type": "stream",
     "text": [
      "inertia -- 140.9207140100215 | slihouette -- 0.3364108971094821\n",
      "inertia -- 120.35561701776142 | slihouette -- 0.34065726305522054\n",
      "inertia -- 105.31784186611154 | slihouette -- 0.34686286971067953\n"
     ]
    },
    {
     "name": "stderr",
     "output_type": "stream",
     "text": [
      "C:\\Users\\M.Srimanth\\AppData\\Local\\Programs\\Python\\Python311\\Lib\\site-packages\\sklearn\\cluster\\_kmeans.py:1416: FutureWarning: The default value of `n_init` will change from 10 to 'auto' in 1.4. Set the value of `n_init` explicitly to suppress the warning\n",
      "  super()._check_params_vs_input(X, default_n_init=10)\n",
      "C:\\Users\\M.Srimanth\\AppData\\Local\\Programs\\Python\\Python311\\Lib\\site-packages\\sklearn\\cluster\\_kmeans.py:1416: FutureWarning: The default value of `n_init` will change from 10 to 'auto' in 1.4. Set the value of `n_init` explicitly to suppress the warning\n",
      "  super()._check_params_vs_input(X, default_n_init=10)\n",
      "C:\\Users\\M.Srimanth\\AppData\\Local\\Programs\\Python\\Python311\\Lib\\site-packages\\sklearn\\cluster\\_kmeans.py:1416: FutureWarning: The default value of `n_init` will change from 10 to 'auto' in 1.4. Set the value of `n_init` explicitly to suppress the warning\n",
      "  super()._check_params_vs_input(X, default_n_init=10)\n"
     ]
    },
    {
     "name": "stdout",
     "output_type": "stream",
     "text": [
      "inertia -- 92.95668142801213 | slihouette -- 0.35242351001489675\n",
      "inertia -- 82.83417455245863 | slihouette -- 0.350277566029837\n",
      "inertia -- 75.22970050070218 | slihouette -- 0.3425978453908032\n"
     ]
    }
   ],
   "source": [
    "model_labels = {}\n",
    "i_score = []\n",
    "s_score = []\n",
    "centroids = {}\n",
    "for i in range(2,12):\n",
    "    #model Building\n",
    "    model = KMeans(n_clusters = i)\n",
    "\n",
    "    #model traning\n",
    "    model = model.fit(x)\n",
    "\n",
    "    #Get the Labels\n",
    "    labels = model.labels_\n",
    "    model_labels[i] = labels\n",
    "\n",
    "    #inertia\n",
    "    i_score.append(model.inertia_)\n",
    "\n",
    "    #silhouette\n",
    "    s_score.append(silhouette_score(x,labels))\n",
    "\n",
    "    #centroid\n",
    "    centroids[i] = model.cluster_centers_\n",
    "\n",
    "    print(f'inertia -- {model.inertia_} | slihouette -- {silhouette_score(x,labels)}')\n",
    "    \n",
    "    "
   ]
  },
  {
   "cell_type": "markdown",
   "id": "f1df6cbf-0c69-4082-986b-42d98ade79e8",
   "metadata": {},
   "source": [
    "# Ploting Inertia Silhouette"
   ]
  },
  {
   "cell_type": "code",
   "execution_count": 51,
   "id": "a8600113-40aa-4f2d-85e5-c3bcd3addf54",
   "metadata": {},
   "outputs": [
    {
     "data": {
      "text/plain": [
       "Text(0.5, 0, 'K')"
      ]
     },
     "execution_count": 51,
     "metadata": {},
     "output_type": "execute_result"
    },
    {
     "data": {
      "image/png": "[encoded data removed]",
      "text/plain": [
       "<Figure size 640x480 with 2 Axes>"
      ]
     },
     "metadata": {},
     "output_type": "display_data"
    }
   ],
   "source": [
    "plt.subplots(2,1,sharex = True)\n",
    "plt.subplot(211)#row,Columns,plot\n",
    "plt.plot(range(2,12),i_score,'o--')\n",
    "plt.ylabel('Iertia')\n",
    "\n",
    "plt.subplot(212)\n",
    "plt.plot(range(2,12),s_score,'o--')\n",
    "plt.ylabel('Silhouette')\n",
    "\n",
    "plt.xlabel('K')\n",
    "\n"
   ]
  },
  {
   "cell_type": "markdown",
   "id": "7bb4eee6-5bd5-4287-aa44-60456ec36760",
   "metadata": {},
   "source": [
    "# Get The Cluster Label of The Best Model And plot The cluster"
   ]
  },
  {
   "cell_type": "code",
   "execution_count": 60,
   "id": "ead1be29-a5a3-4c63-95b3-3dc6bdb584d9",
   "metadata": {},
   "outputs": [],
   "source": [
    "k_label = model_labels[3]"
   ]
  },
  {
   "cell_type": "code",
   "execution_count": 62,
   "id": "fda90e1c-a803-453c-b062-e2b3f3bbdf93",
   "metadata": {
    "scrolled": true
   },
   "outputs": [],
   "source": [
    "k_centroids = centroids[3]"
   ]
  },
  {
   "cell_type": "code",
   "execution_count": 87,
   "id": "79081a06-9866-4222-b6ad-6a44dc7b4ac0",
   "metadata": {},
   "outputs": [
    {
     "data": {
      "text/plain": [
       "Text(0, 0.5, 'Age')"
      ]
     },
     "execution_count": 87,
     "metadata": {},
     "output_type": "execute_result"
    },
    {
     "data": {
      "image/png": "[encoded data removed]",
      "text/plain": [
       "<Figure size 640x480 with 2 Axes>"
      ]
     },
     "metadata": {},
     "output_type": "display_data"
    }
   ],
   "source": [
    "plt.subplots(1,2)\n",
    "plt.subplot(121)\n",
    "\n",
    "# 1st cluster\n",
    "plt.scatter(x[k_label == 0,0],x[k_label == 0,1],c = 'green',label = '1')\n",
    "\n",
    "# 2nd cluster\n",
    "plt.scatter(x[k_label == 1,0],x[k_label == 1,1],c = 'yellow',label = '2')\n",
    "\n",
    "#3rd cluster\n",
    "plt.scatter(x[k_label == 2,0],x[k_label == 2,1],c = 'blue',label = '3')\n",
    "\n",
    "#Centroid\n",
    "plt.scatter(k_centroids[:,0],k_centroids[:,1],c = 'r',marker = '*')\n",
    "plt.xlabel('chlo')\n",
    "plt.ylabel('age')\n",
    "\n",
    "plt.subplot(122)\n",
    "plt.scatter(x[:,0],x[:,1])\n",
    "plt.xlabel('Chol')\n",
    "plt.ylabel('Age')"
   ]
  },
  {
   "cell_type": "code",
   "execution_count": 89,
   "id": "afd40519-7fcb-4eab-bdb2-d9a81fa92978",
   "metadata": {},
   "outputs": [
    {
     "data": {
      "text/html": [
       "<div>\n",
       "<style scoped>\n",
       "    .dataframe tbody tr th:only-of-type {\n",
       "        vertical-align: middle;\n",
       "    }\n",
       "\n",
       "    .dataframe tbody tr th {\n",
       "        vertical-align: top;\n",
       "    }\n",
       "\n",
       "    .dataframe thead th {\n",
       "        text-align: right;\n",
       "    }\n",
       "</style>\n",
       "<table border=\"1\" class=\"dataframe\">\n",
       "  <thead>\n",
       "    <tr style=\"text-align: right;\">\n",
       "      <th></th>\n",
       "      <th>age</th>\n",
       "      <th>chol</th>\n",
       "    </tr>\n",
       "  </thead>\n",
       "  <tbody>\n",
       "    <tr>\n",
       "      <th>0</th>\n",
       "      <td>63</td>\n",
       "      <td>233</td>\n",
       "    </tr>\n",
       "    <tr>\n",
       "      <th>1</th>\n",
       "      <td>37</td>\n",
       "      <td>250</td>\n",
       "    </tr>\n",
       "    <tr>\n",
       "      <th>2</th>\n",
       "      <td>41</td>\n",
       "      <td>204</td>\n",
       "    </tr>\n",
       "    <tr>\n",
       "      <th>3</th>\n",
       "      <td>56</td>\n",
       "      <td>236</td>\n",
       "    </tr>\n",
       "    <tr>\n",
       "      <th>4</th>\n",
       "      <td>57</td>\n",
       "      <td>354</td>\n",
       "    </tr>\n",
       "    <tr>\n",
       "      <th>...</th>\n",
       "      <td>...</td>\n",
       "      <td>...</td>\n",
       "    </tr>\n",
       "    <tr>\n",
       "      <th>298</th>\n",
       "      <td>57</td>\n",
       "      <td>241</td>\n",
       "    </tr>\n",
       "    <tr>\n",
       "      <th>299</th>\n",
       "      <td>45</td>\n",
       "      <td>264</td>\n",
       "    </tr>\n",
       "    <tr>\n",
       "      <th>300</th>\n",
       "      <td>68</td>\n",
       "      <td>193</td>\n",
       "    </tr>\n",
       "    <tr>\n",
       "      <th>301</th>\n",
       "      <td>57</td>\n",
       "      <td>131</td>\n",
       "    </tr>\n",
       "    <tr>\n",
       "      <th>302</th>\n",
       "      <td>57</td>\n",
       "      <td>236</td>\n",
       "    </tr>\n",
       "  </tbody>\n",
       "</table>\n",
       "<p>303 rows × 2 columns</p>\n",
       "</div>"
      ],
      "text/plain": [
       "     age  chol\n",
       "0     63   233\n",
       "1     37   250\n",
       "2     41   204\n",
       "3     56   236\n",
       "4     57   354\n",
       "..   ...   ...\n",
       "298   57   241\n",
       "299   45   264\n",
       "300   68   193\n",
       "301   57   131\n",
       "302   57   236\n",
       "\n",
       "[303 rows x 2 columns]"
      ]
     },
     "execution_count": 89,
     "metadata": {},
     "output_type": "execute_result"
    }
   ],
   "source": [
    "analysis = heart_df[['age','chol']]\n",
    "analysis"
   ]
  },
  {
   "cell_type": "code",
   "execution_count": 93,
   "id": "9b3b557e-fdc3-47dc-b2c7-980caf99f45f",
   "metadata": {},
   "outputs": [],
   "source": [
    " analysis['label'] = k_label"
   ]
  },
  {
   "cell_type": "code",
   "execution_count": 94,
   "id": "d7fc8de5-d2ff-4361-805d-21ba9b169be1",
   "metadata": {},
   "outputs": [
    {
     "data": {
      "text/html": [
       "<div>\n",
       "<style scoped>\n",
       "    .dataframe tbody tr th:only-of-type {\n",
       "        vertical-align: middle;\n",
       "    }\n",
       "\n",
       "    .dataframe tbody tr th {\n",
       "        vertical-align: top;\n",
       "    }\n",
       "\n",
       "    .dataframe thead th {\n",
       "        text-align: right;\n",
       "    }\n",
       "</style>\n",
       "<table border=\"1\" class=\"dataframe\">\n",
       "  <thead>\n",
       "    <tr style=\"text-align: right;\">\n",
       "      <th></th>\n",
       "      <th>age</th>\n",
       "      <th>chol</th>\n",
       "      <th>label</th>\n",
       "    </tr>\n",
       "  </thead>\n",
       "  <tbody>\n",
       "    <tr>\n",
       "      <th>0</th>\n",
       "      <td>63</td>\n",
       "      <td>233</td>\n",
       "      <td>0</td>\n",
       "    </tr>\n",
       "    <tr>\n",
       "      <th>1</th>\n",
       "      <td>37</td>\n",
       "      <td>250</td>\n",
       "      <td>1</td>\n",
       "    </tr>\n",
       "    <tr>\n",
       "      <th>2</th>\n",
       "      <td>41</td>\n",
       "      <td>204</td>\n",
       "      <td>1</td>\n",
       "    </tr>\n",
       "    <tr>\n",
       "      <th>3</th>\n",
       "      <td>56</td>\n",
       "      <td>236</td>\n",
       "      <td>0</td>\n",
       "    </tr>\n",
       "    <tr>\n",
       "      <th>4</th>\n",
       "      <td>57</td>\n",
       "      <td>354</td>\n",
       "      <td>2</td>\n",
       "    </tr>\n",
       "    <tr>\n",
       "      <th>...</th>\n",
       "      <td>...</td>\n",
       "      <td>...</td>\n",
       "      <td>...</td>\n",
       "    </tr>\n",
       "    <tr>\n",
       "      <th>298</th>\n",
       "      <td>57</td>\n",
       "      <td>241</td>\n",
       "      <td>0</td>\n",
       "    </tr>\n",
       "    <tr>\n",
       "      <th>299</th>\n",
       "      <td>45</td>\n",
       "      <td>264</td>\n",
       "      <td>1</td>\n",
       "    </tr>\n",
       "    <tr>\n",
       "      <th>300</th>\n",
       "      <td>68</td>\n",
       "      <td>193</td>\n",
       "      <td>0</td>\n",
       "    </tr>\n",
       "    <tr>\n",
       "      <th>301</th>\n",
       "      <td>57</td>\n",
       "      <td>131</td>\n",
       "      <td>0</td>\n",
       "    </tr>\n",
       "    <tr>\n",
       "      <th>302</th>\n",
       "      <td>57</td>\n",
       "      <td>236</td>\n",
       "      <td>0</td>\n",
       "    </tr>\n",
       "  </tbody>\n",
       "</table>\n",
       "<p>303 rows × 3 columns</p>\n",
       "</div>"
      ],
      "text/plain": [
       "     age  chol  label\n",
       "0     63   233      0\n",
       "1     37   250      1\n",
       "2     41   204      1\n",
       "3     56   236      0\n",
       "4     57   354      2\n",
       "..   ...   ...    ...\n",
       "298   57   241      0\n",
       "299   45   264      1\n",
       "300   68   193      0\n",
       "301   57   131      0\n",
       "302   57   236      0\n",
       "\n",
       "[303 rows x 3 columns]"
      ]
     },
     "execution_count": 94,
     "metadata": {},
     "output_type": "execute_result"
    }
   ],
   "source": [
    "analysis"
   ]
  },
  {
   "cell_type": "code",
   "execution_count": 98,
   "id": "9522249b-ccf9-4bf7-bce0-71b65cd504ee",
   "metadata": {},
   "outputs": [
    {
     "data": {
      "text/html": [
       "<div>\n",
       "<style scoped>\n",
       "    .dataframe tbody tr th:only-of-type {\n",
       "        vertical-align: middle;\n",
       "    }\n",
       "\n",
       "    .dataframe tbody tr th {\n",
       "        vertical-align: top;\n",
       "    }\n",
       "\n",
       "    .dataframe thead th {\n",
       "        text-align: right;\n",
       "    }\n",
       "</style>\n",
       "<table border=\"1\" class=\"dataframe\">\n",
       "  <thead>\n",
       "    <tr style=\"text-align: right;\">\n",
       "      <th></th>\n",
       "      <th>age</th>\n",
       "      <th>chol</th>\n",
       "    </tr>\n",
       "    <tr>\n",
       "      <th>label</th>\n",
       "      <th></th>\n",
       "      <th></th>\n",
       "    </tr>\n",
       "  </thead>\n",
       "  <tbody>\n",
       "    <tr>\n",
       "      <th>0</th>\n",
       "      <td>59.47</td>\n",
       "      <td>218.29</td>\n",
       "    </tr>\n",
       "    <tr>\n",
       "      <th>1</th>\n",
       "      <td>43.92</td>\n",
       "      <td>230.53</td>\n",
       "    </tr>\n",
       "    <tr>\n",
       "      <th>2</th>\n",
       "      <td>59.57</td>\n",
       "      <td>304.63</td>\n",
       "    </tr>\n",
       "  </tbody>\n",
       "</table>\n",
       "</div>"
      ],
      "text/plain": [
       "         age    chol\n",
       "label               \n",
       "0      59.47  218.29\n",
       "1      43.92  230.53\n",
       "2      59.57  304.63"
      ]
     },
     "execution_count": 98,
     "metadata": {},
     "output_type": "execute_result"
    }
   ],
   "source": [
    "analysis.groupby(['label']).mean([['age','chol']]).round(2)"
   ]
  },
  {
   "cell_type": "markdown",
   "id": "3daa1a4b-0b3e-4727-bf64-c5e917501ea7",
   "metadata": {},
   "source": [
    "# Prediction"
   ]
  },
  {
   "cell_type": "code",
   "execution_count": 109,
   "id": "93d473a3-e58f-4047-afdc-96604cb2cdcf",
   "metadata": {},
   "outputs": [],
   "source": [
    "test = np.array([[32,150]])"
   ]
  },
  {
   "cell_type": "code",
   "execution_count": 101,
   "id": "436f4ca3-273c-4f75-bb43-55b9c3efad86",
   "metadata": {},
   "outputs": [],
   "source": [
    "model = KMeans(n_clusters = 3)"
   ]
  },
  {
   "cell_type": "code",
   "execution_count": 104,
   "id": "ec3f6d9d-779f-40a5-a032-6b283d4aeba3",
   "metadata": {},
   "outputs": [
    {
     "name": "stderr",
     "output_type": "stream",
     "text": [
      "C:\\Users\\M.Srimanth\\AppData\\Local\\Programs\\Python\\Python311\\Lib\\site-packages\\sklearn\\cluster\\_kmeans.py:1416: FutureWarning: The default value of `n_init` will change from 10 to 'auto' in 1.4. Set the value of `n_init` explicitly to suppress the warning\n",
      "  super()._check_params_vs_input(X, default_n_init=10)\n"
     ]
    },
    {
     "data": {
      "text/html": [
       "<style>#sk-container-id-2 {color: black;}#sk-container-id-2 pre{padding: 0;}#sk-container-id-2 div.sk-toggleable {background-color: white;}#sk-container-id-2 label.sk-toggleable__label {cursor: pointer;display: block;width: 100%;margin-bottom: 0;padding: 0.3em;box-sizing: border-box;text-align: center;}#sk-container-id-2 label.sk-toggleable__label-arrow:before {content: \"▸\";float: left;margin-right: 0.25em;color: #696969;}#sk-container-id-2 label.sk-toggleable__label-arrow:hover:before {color: black;}#sk-container-id-2 div.sk-estimator:hover label.sk-toggleable__label-arrow:before {color: black;}#sk-container-id-2 div.sk-toggleable__content {max-height: 0;max-width: 0;overflow: hidden;text-align: left;background-color: #f0f8ff;}#sk-container-id-2 div.sk-toggleable__content pre {margin: 0.2em;color: black;border-radius: 0.25em;background-color: #f0f8ff;}#sk-container-id-2 input.sk-toggleable__control:checked~div.sk-toggleable__content {max-height: 200px;max-width: 100%;overflow: auto;}#sk-container-id-2 input.sk-toggleable__control:checked~label.sk-toggleable__label-arrow:before {content: \"▾\";}#sk-container-id-2 div.sk-estimator input.sk-toggleable__control:checked~label.sk-toggleable__label {background-color: #d4ebff;}#sk-container-id-2 div.sk-label input.sk-toggleable__control:checked~label.sk-toggleable__label {background-color: #d4ebff;}#sk-container-id-2 input.sk-hidden--visually {border: 0;clip: rect(1px 1px 1px 1px);clip: rect(1px, 1px, 1px, 1px);height: 1px;margin: -1px;overflow: hidden;padding: 0;position: absolute;width: 1px;}#sk-container-id-2 div.sk-estimator {font-family: monospace;background-color: #f0f8ff;border: 1px dotted black;border-radius: 0.25em;box-sizing: border-box;margin-bottom: 0.5em;}#sk-container-id-2 div.sk-estimator:hover {background-color: #d4ebff;}#sk-container-id-2 div.sk-parallel-item::after {content: \"\";width: 100%;border-bottom: 1px solid gray;flex-grow: 1;}#sk-container-id-2 div.sk-label:hover label.sk-toggleable__label {background-color: #d4ebff;}#sk-container-id-2 div.sk-serial::before {content: \"\";position: absolute;border-left: 1px solid gray;box-sizing: border-box;top: 0;bottom: 0;left: 50%;z-index: 0;}#sk-container-id-2 div.sk-serial {display: flex;flex-direction: column;align-items: center;background-color: white;padding-right: 0.2em;padding-left: 0.2em;position: relative;}#sk-container-id-2 div.sk-item {position: relative;z-index: 1;}#sk-container-id-2 div.sk-parallel {display: flex;align-items: stretch;justify-content: center;background-color: white;position: relative;}#sk-container-id-2 div.sk-item::before, #sk-container-id-2 div.sk-parallel-item::before {content: \"\";position: absolute;border-left: 1px solid gray;box-sizing: border-box;top: 0;bottom: 0;left: 50%;z-index: -1;}#sk-container-id-2 div.sk-parallel-item {display: flex;flex-direction: column;z-index: 1;position: relative;background-color: white;}#sk-container-id-2 div.sk-parallel-item:first-child::after {align-self: flex-end;width: 50%;}#sk-container-id-2 div.sk-parallel-item:last-child::after {align-self: flex-start;width: 50%;}#sk-container-id-2 div.sk-parallel-item:only-child::after {width: 0;}#sk-container-id-2 div.sk-dashed-wrapped {border: 1px dashed gray;margin: 0 0.4em 0.5em 0.4em;box-sizing: border-box;padding-bottom: 0.4em;background-color: white;}#sk-container-id-2 div.sk-label label {font-family: monospace;font-weight: bold;display: inline-block;line-height: 1.2em;}#sk-container-id-2 div.sk-label-container {text-align: center;}#sk-container-id-2 div.sk-container {/* jupyter's `normalize.less` sets `[hidden] { display: none; }` but bootstrap.min.css set `[hidden] { display: none !important; }` so we also need the `!important` here to be able to override the default hidden behavior on the sphinx rendered scikit-learn.org. See: https://github.com/scikit-learn/scikit-learn/issues/21755 */display: inline-block !important;position: relative;}#sk-container-id-2 div.sk-text-repr-fallback {display: none;}</style><div id=\"sk-container-id-2\" class=\"sk-top-container\"><div class=\"sk-text-repr-fallback\"><pre>KMeans(n_clusters=3)</pre><b>In a Jupyter environment, please rerun this cell to show the HTML representation or trust the notebook. <br />On GitHub, the HTML representation is unable to render, please try loading this page with nbviewer.org.</b></div><div class=\"sk-container\" hidden><div class=\"sk-item\"><div class=\"sk-estimator sk-toggleable\"><input class=\"sk-toggleable__control sk-hidden--visually\" id=\"sk-estimator-id-2\" type=\"checkbox\" checked><label for=\"sk-estimator-id-2\" class=\"sk-toggleable__label sk-toggleable__label-arrow\">KMeans</label><div class=\"sk-toggleable__content\"><pre>KMeans(n_clusters=3)</pre></div></div></div></div></div>"
      ],
      "text/plain": [
       "KMeans(n_clusters=3)"
      ]
     },
     "execution_count": 104,
     "metadata": {},
     "output_type": "execute_result"
    }
   ],
   "source": [
    "model.fit(x)"
   ]
  },
  {
   "cell_type": "code",
   "execution_count": 110,
   "id": "a2c0405e-f7fd-47dc-986f-0eae1b22473b",
   "metadata": {},
   "outputs": [
    {
     "name": "stderr",
     "output_type": "stream",
     "text": [
      "C:\\Users\\M.Srimanth\\AppData\\Local\\Programs\\Python\\Python311\\Lib\\site-packages\\sklearn\\base.py:465: UserWarning: X does not have valid feature names, but StandardScaler was fitted with feature names\n",
      "  warnings.warn(\n"
     ]
    }
   ],
   "source": [
    "test = scaler.transform(test)"
   ]
  },
  {
   "cell_type": "code",
   "execution_count": 111,
   "id": "5011b7dd-707c-4be8-9670-f102cb0bdaee",
   "metadata": {},
   "outputs": [
    {
     "data": {
      "text/plain": [
       "array([2])"
      ]
     },
     "execution_count": 111,
     "metadata": {},
     "output_type": "execute_result"
    }
   ],
   "source": [
    "model.predict(test)"
   ]
  },
  {
   "cell_type": "code",
   "execution_count": null,
   "id": "d38bbe25-a001-476f-a5db-1a0e7511ed19",
   "metadata": {},
   "outputs": [],
   "source": []
  }
 ],
 "metadata": {
  "kernelspec": {
   "display_name": "Python 3 (ipykernel)",
   "language": "python",
   "name": "python3"
  },
  "language_info": {
   "codemirror_mode": {
    "name": "ipython",
    "version": 3
   },
   "file_extension": ".py",
   "mimetype": "text/x-python",
   "name": "python",
   "nbconvert_exporter": "python",
   "pygments_lexer": "ipython3",
   "version": "3.11.4"
  }
 },
 "nbformat": 4,
 "nbformat_minor": 5
}
